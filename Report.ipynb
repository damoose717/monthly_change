{
 "cells": [
  {
   "cell_type": "code",
   "execution_count": 10,
   "metadata": {},
   "outputs": [],
   "source": [
    "import numpy as np\n",
    "import pandas as pd\n",
    "import time\n",
    "import matplotlib.pyplot as plt\n",
    "import matplotlib as mpl"
   ]
  },
  {
   "cell_type": "code",
   "execution_count": 2,
   "metadata": {
    "scrolled": true
   },
   "outputs": [],
   "source": [
    "df = pd.read_csv('ITE_Data Assessment_Dataset 1.csv')"
   ]
  },
  {
   "cell_type": "code",
   "execution_count": 3,
   "metadata": {
    "scrolled": true
   },
   "outputs": [],
   "source": [
    "example_good_date = '2010-02-27 00:00:00'\n",
    "\n",
    "cleaned_df = df[df.date.str.len() == len(example_good_date)].dropna()\n",
    "\n",
    "cleaned_df['date_time'] = cleaned_df.date.apply(lambda x: time.strptime(x, '%Y-%m-%d %H:%M:%S'))\n",
    "cleaned_df['year'] = cleaned_df.date_time.apply(lambda x: f\"{x.tm_year:04}\").astype(int)\n",
    "cleaned_df['month'] = cleaned_df.date_time.apply(lambda x: f\"{x.tm_mon:02}\")\n",
    "cleaned_df['dt'] = (cleaned_df['year'].astype(str) + cleaned_df['month']).astype(int)\n",
    "cleaned_df['day'] = cleaned_df.date_time.apply(lambda x: f\"{x.tm_mday:02}\")\n",
    "cleaned_df['month'] = cleaned_df['month'].astype(int)"
   ]
  },
  {
   "cell_type": "code",
   "execution_count": 9,
   "metadata": {},
   "outputs": [
    {
     "data": {
      "image/png": "[encoded data removed]",
      "text/plain": [
       "<Figure size 576x576 with 1 Axes>"
      ]
     },
     "metadata": {},
     "output_type": "display_data"
    }
   ],
   "source": [
    "df_agged = cleaned_df.groupby(['variable', 'dt']).agg(np.mean).sort_index()\n",
    "df_agged['change'] = df_agged.value - df_agged.value.shift(1)\n",
    " \n",
    "plt.style.use('ggplot')\n",
    "plt.figure(figsize = (8, 8))\n",
    "plt.title('')\n",
    "plt.ylabel('value')\n",
    "\n",
    "variables = ['type1', 'type2', 'type3']\n",
    "plt.boxplot([df_agged[df_agged.index.get_level_values(0) == variable].change.dropna() for variable in variables])\n",
    "\n",
    "plt.show()"
   ]
  },
  {
   "cell_type": "code",
   "execution_count": null,
   "metadata": {},
   "outputs": [],
   "source": []
  }
 ],
 "metadata": {
  "kernelspec": {
   "display_name": "Python 3",
   "language": "python",
   "name": "python3"
  },
  "language_info": {
   "codemirror_mode": {
    "name": "ipython",
    "version": 3
   },
   "file_extension": ".py",
   "mimetype": "text/x-python",
   "name": "python",
   "nbconvert_exporter": "python",
   "pygments_lexer": "ipython3",
   "version": "3.6.5"
  }
 },
 "nbformat": 4,
 "nbformat_minor": 2
}
